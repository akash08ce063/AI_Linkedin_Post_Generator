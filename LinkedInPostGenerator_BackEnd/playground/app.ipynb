{
 "cells": [
  {
   "cell_type": "code",
   "execution_count": 2,
   "metadata": {},
   "outputs": [
    {
     "name": "stderr",
     "output_type": "stream",
     "text": [
      "USER_AGENT environment variable not set, consider setting it to identify your requests.\n"
     ]
    }
   ],
   "source": [
    "from langchain_ollama import ChatOllama\n",
    "from langchain_core.messages import HumanMessage, ToolMessage\n",
    "from langchain.document_loaders import WebBaseLoader\n",
    "from langchain_core.prompts import PromptTemplate"
   ]
  },
  {
   "cell_type": "code",
   "execution_count": 3,
   "metadata": {},
   "outputs": [],
   "source": [
    "linkedin_topic_post_prompt = \"\"\" You will act as an experienced LinkedIn Social Media Expert and Business Analyst. You will write engaging an engaging LinkedIn post that provides value or insights on a topic. Write the post in English.\n",
    "\n",
    "- You approach serious topics related to business, and productivity in a  professional way to make them more accessible to the general public.\n",
    "- You must use emojis in each paragraph.\n",
    "- In formatting your texts, you use bullet points to organize your ideas and facilitate reading.\n",
    "- You also use short and simple sentences to convey your message clearly and concisely.\n",
    "- Overall, your tone is optimistic and encouraging, with a touch of humor.\n",
    "- Use a question at the end of your text to engage your audience and elicit their reaction. You consistently encourage interaction by inviting your audience to comment and share their own experiences.'\n",
    "- Include six relevant hashtags at the end of the post.\n",
    "- You will ask me if I want to add a link to a relevant article, if I provide a URL you will use that URL in the post.\n",
    "- Now, I would like you to write a LinkedIn post in my style on the following topic: {topic}.\"\"\"\n",
    "\n",
    "llm = ChatOllama(\n",
    "    model = \"llama3.1\",\n",
    "    temperature = 0,\n",
    "    num_predict = 256,\n",
    ")"
   ]
  },
  {
   "cell_type": "code",
   "execution_count": 4,
   "metadata": {},
   "outputs": [
    {
     "data": {
      "text/plain": [
       "AIMessage(content=\"Here's a LinkedIn post on using Power Platform with Azure OpenAI to build a chatbot:\\n\\n**Unlock the Power of Conversational AI 🤖**\\n\\nAre you tired of manual data entry and repetitive tasks? 💼 Do you want to provide your customers with a seamless experience? 🤝 Introducing the power of combining Power Platform with Azure OpenAI to build a chatbot! 🔥\\n\\nHere are some benefits of using this powerful combination:\\n\\n• **Automate tasks**: Free up your team's time for more strategic work by automating routine tasks and processes.\\n• **Enhance customer experience**: Provide 24/7 support to your customers through a conversational interface that understands their needs.\\n• **Gain insights**: Analyze user interactions to improve your business decisions and optimize your operations.\\n\\nBut how does it work? 🤔\\n\\nPower Platform provides the foundation for building custom applications, while Azure OpenAI brings the power of natural language processing (NLP) and machine learning to create a conversational AI that understands and responds to user queries. 💡\\n\\nSo, are you ready to take your business to the next level with conversational AI? 🚀 Share your experiences or ask me any questions in the comments below! 💬\\n\\n#PowerPlatform #Azure\", additional_kwargs={}, response_metadata={'model': 'llama3.1', 'created_at': '2025-02-12T15:38:00.8044455Z', 'done': True, 'done_reason': 'length', 'total_duration': 25622151500, 'load_duration': 27535800, 'prompt_eval_count': 246, 'prompt_eval_duration': 131000000, 'eval_count': 256, 'eval_duration': 25462000000, 'message': Message(role='assistant', content='', images=None, tool_calls=None)}, id='run-15cbcd30-1773-4e97-b25d-d99660f6f261-0', usage_metadata={'input_tokens': 246, 'output_tokens': 256, 'total_tokens': 502})"
      ]
     },
     "execution_count": 4,
     "metadata": {},
     "output_type": "execute_result"
    }
   ],
   "source": [
    "topic = \"Using power platform with Azure OpenAI to build a chatbot\"\n",
    "linkedin_prompt = prompt_template = PromptTemplate.from_template(linkedin_topic_post_prompt)\n",
    "prompt = prompt_template.invoke({\"topic\": topic})\n",
    "linkedin_post = llm.invoke(prompt)\n",
    "linkedin_post"
   ]
  },
  {
   "cell_type": "code",
   "execution_count": 4,
   "metadata": {},
   "outputs": [],
   "source": [
    "web_links = [\"https://www.databricks.com/\"] \n",
    "loader = WebBaseLoader(web_links)\n",
    "documents=loader.load()\n",
    "\n",
    "linkedin_web_prompt = \"\"\"\n",
    "You are a LinkedIn content creator. Given the following webpage content, please generate a professional and engaging LinkedIn post that summarizes the key points and encourages engagement.\n",
    "\n",
    "    - The post should be concise, attention-grabbing, and formatted to appeal to a LinkedIn audience.\n",
    "    - Highlight the main takeaway or insights from the content.\n",
    "    - Make the post sound insightful, yet approachable, suitable for professionals in the relevant industry.\n",
    "    - End the post with a call-to-action (CTA) that encourages comments or engagement.\n",
    "\n",
    "Webpage content:\n",
    "\n",
    "{web_content}\n",
    "    \n",
    "\"\"\"\n",
    "\n",
    "linkedin_web_prompt_2 = \"\"\"\n",
    "Transform the following webpage content into a concise, thought-provoking LinkedIn post. Focus on key insights or data points that are relevant to professionals, and present them in a way that sparks discussion and adds value to your network. The post should be clear, engaging, and actionable. Highlight the most compelling parts of the webpage, and tie them to real-world applications or challenges.\n",
    "\n",
    "Key elements to emphasize:\n",
    "\n",
    "    - Relevant trends, statistics, or findings.\n",
    "    - Industry impact or potential outcomes.\n",
    "    - Practical takeaways or lessons for professionals.\n",
    "    - A clear and motivating call-to-action (CTA) to encourage engagement or further reading.\n",
    "    - The tone should be professional and insightful, with a focus on generating conversation or sharing valuable knowledge within the community\n",
    "\n",
    "Webpage content:\n",
    "\n",
    "{web_content}\n",
    "\"\"\"\n",
    "\n"
   ]
  },
  {
   "cell_type": "code",
   "execution_count": 7,
   "metadata": {},
   "outputs": [
    {
     "data": {
      "text/plain": [
       "[AIMessage(content=\"Here's a LinkedIn post that summarizes the key points and encourages engagement:\\n\\n**Unlock the Power of Data Intelligence with Databricks**\\n\\nAre you ready to transform your organization into a data-driven powerhouse? With Databricks, you can unify all your data + AI efforts, simplify complexity, and drive down costs.\\n\\n**Key Benefits:**\\n\\n Democratize insights: Empower everyone in your org to discover insights from your data using natural language.\\n Drive down costs: Gain efficiency and simplify complexity by unifying your approach to data, AI, and governance.\\n Create, tune, and deploy generative AI models: Automate experiment tracking and governance, and deploy models at scale.\\n\\n**See how industry leaders are leveraging Databricks to succeed with AI**\\n\\nSchedule a demo today and discover the power of data intelligence for yourself!\\n\\nWhat's your biggest challenge in implementing data-driven initiatives? Share your thoughts in the comments below!\", additional_kwargs={}, response_metadata={'model': 'llama3.1', 'created_at': '2025-02-13T01:34:02.0537387Z', 'done': True, 'done_reason': 'stop', 'total_duration': 196570955300, 'load_duration': 7999358100, 'prompt_eval_count': 1700, 'prompt_eval_duration': 121958000000, 'eval_count': 182, 'eval_duration': 66612000000, 'message': Message(role='assistant', content='', images=None, tool_calls=None)}, id='run-71348bb5-17d1-478a-8550-1685f44f70e1-0', usage_metadata={'input_tokens': 1700, 'output_tokens': 182, 'total_tokens': 1882}),\n",
       " AIMessage(content=\"Here's a concise, thought-provoking LinkedIn post based on the webpage content:\\n\\n**Unlock the Power of Data Intelligence**\\n\\nDid you know that 85% of companies are struggling to integrate AI into their data workflows? (Source: Gartner)\\n\\nAt Databricks, we believe that data intelligence is the key to unlocking business success. Our platform brings together data, analytics, and AI in a unified way, empowering everyone in your organization to discover insights from your data using natural language.\\n\\n**Key Benefits:**\\n\\n* Democratize insights: Empower non-technical users to explore and analyze data\\n* Drive down costs: Simplify complexity by unifying your approach to data, AI, and governance\\n* Create generative AI applications: Develop high-quality models without sacrificing data privacy or control\\n\\n**Real-world Applications:**\\n\\n* Unify all your data + AI: Govern, warehouse, ETL, and share data seamlessly\\n* Build better AI with a data-centric approach: Great models are built with great data\\n* Automate experiment tracking and governance: Deploy and monitor models at scale\\n\\n**Take the First Step in Your Transformation**\\n\\nReady to become a data + AI company? Browse our demos, try it free, or schedule a demo with one of our experts.\\n\\nLet\", additional_kwargs={}, response_metadata={'model': 'llama3.1', 'created_at': '2025-02-13T01:34:12.4811183Z', 'done': True, 'done_reason': 'length', 'total_duration': 206998423500, 'load_duration': 7999358100, 'prompt_eval_count': 1747, 'prompt_eval_duration': 156290000000, 'eval_count': 256, 'eval_duration': 42707000000, 'message': Message(role='assistant', content='', images=None, tool_calls=None)}, id='run-87763991-f6b0-422a-b9c4-e5f84c758168-0', usage_metadata={'input_tokens': 1747, 'output_tokens': 256, 'total_tokens': 2003})]"
      ]
     },
     "execution_count": 7,
     "metadata": {},
     "output_type": "execute_result"
    }
   ],
   "source": [
    "import asyncio\n",
    "\n",
    "linkedin_prompt_1 = PromptTemplate.from_template(linkedin_web_prompt)\n",
    "prompt_1 = linkedin_prompt_1.invoke({\"web_content\": documents[0].page_content})\n",
    "\n",
    "linkedin_prompt_2 = PromptTemplate.from_template(linkedin_web_prompt_2)\n",
    "prompt_2 = linkedin_prompt_2.invoke({\"web_content\": documents[0].page_content})\n",
    "\n",
    "linkedin_prompts = [prompt_1, prompt_2]\n",
    "\n",
    "async def get_model_response(prompt: str):\n",
    "     # Get the response asynchronously\n",
    "    response = await llm.ainvoke(prompt)\n",
    "    return response\n",
    "\n",
    "async def get_responses_parallel(prompts):\n",
    "    # Run all the model calls in parallel using asyncio.gather\n",
    "    tasks = [get_model_response(prompt) for prompt in prompts]\n",
    "    responses = await asyncio.gather(*tasks)\n",
    "    return responses\n",
    "\n",
    "responsess = await get_responses_parallel(linkedin_prompts)\n",
    "responsess"
   ]
  },
  {
   "cell_type": "code",
   "execution_count": 6,
   "metadata": {},
   "outputs": [
    {
     "data": {
      "text/plain": [
       "AIMessage(content=\"Here's a LinkedIn post that summarizes the key points and encourages engagement:\\n\\n**Unlock the Power of Data Intelligence with Databricks**\\n\\nAre you ready to transform your organization into a data-driven powerhouse? With Databricks, you can unify all your data + AI efforts, simplify complexity, and drive down costs.\\n\\n**Key Benefits:**\\n\\n Democratize insights: Empower everyone in your org to discover insights from your data using natural language.\\n Drive down costs: Gain efficiency and simplify complexity by unifying your approach to data, AI, and governance.\\n Create, tune, and deploy generative AI models: Automate experiment tracking and governance, and deploy models at scale.\\n\\n**See how industry leaders are leveraging Databricks to succeed with AI**\\n\\nSchedule a demo today and discover the power of data intelligence for yourself!\\n\\nWhat's your biggest challenge in implementing data-driven initiatives? Share your thoughts in the comments below!\", additional_kwargs={}, response_metadata={'model': 'llama3.1', 'created_at': '2025-02-12T15:48:37.0565486Z', 'done': True, 'done_reason': 'stop', 'total_duration': 95353811300, 'load_duration': 3084047900, 'prompt_eval_count': 1700, 'prompt_eval_duration': 72990000000, 'eval_count': 182, 'eval_duration': 19277000000, 'message': Message(role='assistant', content='', images=None, tool_calls=None)}, id='run-cdfa03a1-388f-48e7-b819-d96f7934b570-0', usage_metadata={'input_tokens': 1700, 'output_tokens': 182, 'total_tokens': 1882})"
      ]
     },
     "execution_count": 6,
     "metadata": {},
     "output_type": "execute_result"
    }
   ],
   "source": [
    "linkedin_prompt = prompt_template = PromptTemplate.from_template(linkedin_web_prompt)\n",
    "prompt = prompt_template.invoke({\"web_content\": documents[0].page_content})\n",
    "linkedin_post = llm.invoke(prompt)\n",
    "linkedin_post"
   ]
  },
  {
   "cell_type": "code",
   "execution_count": 7,
   "metadata": {},
   "outputs": [
    {
     "data": {
      "text/plain": [
       "AIMessage(content='Here\\'s a polished and professional LinkedIn post based on your input:\\n\\n**Title:** \"Transforming Team Collaboration: Lessons Learned from Our Journey\"\\n\\nAs professionals, we\\'ve all been there - trying to implement new tools and processes to boost team collaboration, only to face resistance and skepticism. But I\\'m here to share our story of transformation at [Your Company Name].\\n\\nWe recently introduced new project management and communication tools to streamline our workflows. The results have been nothing short of remarkable! However, the journey wasn\\'t without its challenges.\\n\\nGetting everyone on board with the new way of doing things took time, patience, and persistence. But it was worth it. By embracing change and adapting to new habits, we\\'ve seen significant improvements in productivity, efficiency, and overall team morale.\\n\\nSo, what can you learn from our experience? Here are a few key takeaways:\\n\\n **Be patient**: Change takes time, and it\\'s essential to give your team the space to adjust.\\n **Communicate clearly**: Ensure everyone understands the benefits and expectations of the new tools and processes.\\n **Lead by example**: Demonstrate the value of collaboration and teamwork in action.\\n\\nIf you\\'re facing similar challenges or have successfully implemented new collaboration tools, I\\'d love to hear from you! Share your experiences and tips in', additional_kwargs={}, response_metadata={'model': 'llama3.1', 'created_at': '2025-02-12T15:55:45.343646Z', 'done': True, 'done_reason': 'length', 'total_duration': 41360962400, 'load_duration': 7663569800, 'prompt_eval_count': 206, 'prompt_eval_duration': 8924000000, 'eval_count': 256, 'eval_duration': 24771000000, 'message': Message(role='assistant', content='', images=None, tool_calls=None)}, id='run-4ac1f508-7094-4bba-974b-434c8eafc9f4-0', usage_metadata={'input_tokens': 206, 'output_tokens': 256, 'total_tokens': 462})"
      ]
     },
     "execution_count": 7,
     "metadata": {},
     "output_type": "execute_result"
    }
   ],
   "source": [
    "linkedin_ideas_writer_prompt = \"\"\"\n",
    "\n",
    "You are a LinkedIn content expert. Given the following ideas and rough writing provided by the user, please generate a polished and professional LinkedIn post.\n",
    "\n",
    "    - The post should clearly convey the main message or idea, while sounding engaging and authentic for a professional audience.\n",
    "    - Structure the post in a way that grabs attention, delivers value, and ends with a call-to-action (CTA) that invites comments or further engagement.\n",
    "    - Ensure the tone is professional, authentic, and concise. Feel free to expand on the rough ideas while keeping the core message intact.\n",
    "\n",
    "User Input (Ideas and Rough Writing):\n",
    "{user_input}\n",
    "\"\"\"\n",
    "\n",
    "linkedin_prompt = prompt_template = PromptTemplate.from_template(linkedin_ideas_writer_prompt)\n",
    "prompt = prompt_template.invoke({\"user_input\": \"\"\"\n",
    "I've been working on improving team collaboration at work. We've been using new tools for project management and communication, and it's really helped streamline our processes.\n",
    "The challenge is getting everyone on board with the new way of doing things. It takes time, but the results have been great.\n",
    "It's important to be patient with the transition, but the benefits are worth it.\n",
    "\"\"\"})\n",
    "linkedin_post = llm.invoke(prompt)\n",
    "linkedin_post\n"
   ]
  },
  {
   "cell_type": "code",
   "execution_count": 10,
   "metadata": {},
   "outputs": [
    {
     "data": {
      "text/plain": [
       "LinkinPostEvaluationScore(clarity_score=8, engagement_potential_score=9, overall_impact_score=7)"
      ]
     },
     "execution_count": 10,
     "metadata": {},
     "output_type": "execute_result"
    }
   ],
   "source": [
    "import pydantic\n",
    "\n",
    "# Define a Pydantic model for the LinkedIn post evaluation scores\n",
    "class LinkinPostEvaluationScore(pydantic.BaseModel):\n",
    "    clarity_score: int = pydantic.Field(..., ge=1, le=10, description=\"How clear and easy to understand is the message in this post?\")\n",
    "    engagement_potential_score: int = pydantic.Field(..., ge=1, le=10, description=\"How likely is this post to engage the LinkedIn audience?\")\n",
    "    overall_impact_score: int = pydantic.Field(..., ge=1, le=10, description=\"How impactful is this post in terms of its value to the audience?\")\n",
    "\n",
    "linkedin_evaluation_prompt = \"\"\"\n",
    "Please evaluate the following LinkedIn post based on the following criteria:\n",
    "\n",
    "    - Clarity Score: How clear and easy to understand is the message in this post? Is the information presented logically and concisely? Consider how well the post conveys its message without any ambiguity or unnecessary complexity. Rate Clarity on a scale of 1 to 10, where 1 is extremely unclear and 10 is very clear and easy to understand.\n",
    "    - Engagement Potential Score: How likely is this post to engage the LinkedIn audience? Consider if the post encourages interaction (likes, comments, shares), if it poses a question, shares insightful information, or prompts action. Does it have elements that could spark conversation or debate? Rate Engagement Potential on a scale of 1 to 10, where 1 is not engaging at all and 10 is highly likely to spark significant engagement.\n",
    "    - Overall Impact Score: How impactful is this post in terms of its value to the audience? Does it leave a lasting impression, inspire action, or provide valuable insight? Does it add value to the professional community or the target audience? Consider whether the post helps inform, educate, or inspire the reader. Rate Overall Impact on a scale of 1 to 10, where 1 has no impact and 10 has a highly significant impact on the audience.\n",
    "\n",
    "Please provide your scores for each criterion along with brief explanations for your ratings.\n",
    "\n",
    "LinkedIn Post:\n",
    "{linkedin_post}\n",
    " \"\"\"\n",
    "\n",
    "evaluation_prompt =  PromptTemplate.from_template(linkedin_evaluation_prompt)\n",
    "result = evaluation_prompt.invoke({\"linkedin_post\": \"\"\"\\n\\n**Unlock the Power of Data Intelligence with Databricks**\\n\\nAre you ready to transform your organization into a data-driven powerhouse? With Databricks, you can unify all your data + AI efforts, simplify complexity, and drive down costs.\\n\\n**Key Benefits:**\\n\\n Democratize insights: Empower everyone in your org to discover insights from your data using natural language.\\n Drive down costs: Gain efficiency and simplify complexity by unifying your approach to data, AI, and governance.\\n Create, tune, and deploy generative AI models: Automate experiment tracking and governance, and deploy models at scale.\\n\\n**See how industry leaders are leveraging Databricks to succeed with AI**\\n\\nSchedule a demo today and discover the power of data intelligence for yourself!\\n\\nWhat's your biggest challenge in implementing data-driven initiatives? Share your thoughts in the comments below! \"\"\"})\n",
    "\n",
    "llm = ChatOllama(\n",
    "    model = \"llama3.1\",\n",
    "    temperature = 0,\n",
    "    num_predict = 256,\n",
    "    format=\"json\"\n",
    ")\n",
    "\n",
    "llm = llm.with_structured_output(LinkinPostEvaluationScore)\n",
    "\n",
    "result = llm.invoke(result)\n",
    "result "
   ]
  }
 ],
 "metadata": {
  "kernelspec": {
   "display_name": "Python 3",
   "language": "python",
   "name": "python3"
  },
  "language_info": {
   "codemirror_mode": {
    "name": "ipython",
    "version": 3
   },
   "file_extension": ".py",
   "mimetype": "text/x-python",
   "name": "python",
   "nbconvert_exporter": "python",
   "pygments_lexer": "ipython3",
   "version": "3.11.9"
  }
 },
 "nbformat": 4,
 "nbformat_minor": 2
}
